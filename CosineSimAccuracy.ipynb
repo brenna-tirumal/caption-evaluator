{
 "cells": [
  {
   "cell_type": "code",
   "execution_count": 1,
   "metadata": {},
   "outputs": [],
   "source": [
    "import json\n",
    "import pandas as pd\n",
    "import numpy as np\n",
    "import matplotlib.pyplot as plt\n",
    "import statistics"
   ]
  },
  {
   "cell_type": "code",
   "execution_count": null,
   "metadata": {},
   "outputs": [],
   "source": []
  },
  {
   "cell_type": "code",
   "execution_count": 2,
   "metadata": {},
   "outputs": [],
   "source": [
    "caption_eval_app_data_file = 'allresponses.json'\n",
    "with open(caption_eval_app_data_file) as f:\n",
    "    caption_eval_data = json.load(f)"
   ]
  },
  {
   "cell_type": "code",
   "execution_count": 3,
   "metadata": {},
   "outputs": [
    {
     "name": "stdout",
     "output_type": "stream",
     "text": [
      "12039\n",
      "10631\n",
      "{'Image': 'http://images.cocodataset.org/val2014/COCO_val2014_000000056344.jpg', 'Caption': 'a computer screen is shown with a tv and a computer .', 'CapID': 7773, 'Consensus': '3.0000', 'Z0': 3, 'Z1': 3}\n",
      "{'Image': 'http://images.cocodataset.org/val2014/COCO_val2014_000000026323.jpg', 'Caption': 'A herd of giraffe walking across a grass covered field.', 'CapID': 27790, 'Consensus': '5.0000'}\n"
     ]
    }
   ],
   "source": [
    "count_human = 0\n",
    "for thing in caption_eval_data:\n",
    "    if 'Z2' in thing:\n",
    "        count_human += 1\n",
    "\n",
    "total_rated = len(caption_eval_data)\n",
    "print(total_rated)\n",
    "print(count_human)\n",
    "print(caption_eval_data[1089])\n",
    "print(caption_eval_data[4036])"
   ]
  },
  {
   "cell_type": "code",
   "execution_count": 4,
   "metadata": {},
   "outputs": [],
   "source": [
    "cosine_sim_ratings = []\n",
    "human_ratings = []\n",
    "\n",
    "no_human = 0\n",
    "for obj in caption_eval_data:\n",
    "    if 'Z0' in obj:\n",
    "        cosine_rating = obj['Z0']\n",
    "    elif 'Z1' in obj:\n",
    "        cosine_rating = obj['Z1']\n",
    "    else:\n",
    "        cosine_rating = obj['Consensus']\n",
    "    cosine_sim_ratings.append(cosine_rating)\n",
    "    total_human_ratings = 0\n",
    "    human_sum = 0\n",
    "    z_val = 2\n",
    "    while True:\n",
    "        key = 'Z'+str(z_val)\n",
    "        if key in obj:\n",
    "            total_human_ratings += 1\n",
    "            human_sum += int(obj[key])\n",
    "            z_val += 1\n",
    "        else:\n",
    "            if z_val == 2:\n",
    "                no_human += 1\n",
    "            break\n",
    "    \n",
    "    if total_human_ratings > 0:\n",
    "        human_average = human_sum / total_human_ratings\n",
    "    else:\n",
    "        human_average = -1\n",
    "    \n",
    "    human_ratings.append(human_average)"
   ]
  },
  {
   "cell_type": "code",
   "execution_count": 5,
   "metadata": {},
   "outputs": [
    {
     "name": "stdout",
     "output_type": "stream",
     "text": [
      "12039\n",
      "12039\n",
      "1408\n",
      "1408\n"
     ]
    }
   ],
   "source": [
    "print(len(cosine_sim_ratings))\n",
    "print(len(human_ratings))\n",
    "print(human_ratings.count(-1))\n",
    "print(no_human)"
   ]
  },
  {
   "cell_type": "code",
   "execution_count": 6,
   "metadata": {},
   "outputs": [
    {
     "name": "stdout",
     "output_type": "stream",
     "text": [
      "Number of samples without cosine similarity data =  0\n",
      "Number of samples without human data =  1408\n"
     ]
    }
   ],
   "source": [
    "count_of_no_cosine = 0\n",
    "for idx, rat in enumerate(cosine_sim_ratings):\n",
    "    if rat == -1:\n",
    "        print(idx)\n",
    "        count_of_no_cosine += 1\n",
    "        \n",
    "print('Number of samples without cosine similarity data = ', count_of_no_cosine)\n",
    "\n",
    "count_of_no_human = 0\n",
    "for rat in human_ratings:\n",
    "    if rat == -1:\n",
    "        count_of_no_human += 1\n",
    "        \n",
    "print('Number of samples without human data = ', count_of_no_human)"
   ]
  },
  {
   "cell_type": "code",
   "execution_count": 8,
   "metadata": {},
   "outputs": [
    {
     "name": "stdout",
     "output_type": "stream",
     "text": [
      "Total with both cosine similarity and human ratings =  10631\n",
      "Total exact match =  5271\n",
      "Accuracy =  0.4958141284921456\n",
      "---------------------------\n",
      "Totals by rating sum =  10631\n",
      "Totals by rating =  [0, 2316, 1895, 1335, 3656, 1429]\n",
      "Correct by rating =  [0, 1761, 632, 482, 1721, 675]\n",
      "Accuracy by rating 1 - 5\n",
      "Rating =  1 | Accuracy =  0.7603626943005182\n",
      "Rating =  2 | Accuracy =  0.33350923482849604\n",
      "Rating =  3 | Accuracy =  0.3610486891385768\n",
      "Rating =  4 | Accuracy =  0.47073304157549234\n",
      "Rating =  5 | Accuracy =  0.4723582925122463\n"
     ]
    }
   ],
   "source": [
    "# Totals_by_rating means the total number of times\n",
    "# Need confusion matrix? Can do if we assume human to be ground truth\n",
    "# This is tricky because we did not use cosine similarity for known 1s (mismatched)\n",
    "# Unclear which \"totals\" to take. The cosine similarity totals? or the human totals? \n",
    "totals_by_rating = [0, 0, 0, 0, 0, 0]\n",
    "correct_by_rating = [0, 0, 0, 0, 0, 0]\n",
    "\n",
    "total_with_cos_and_human = 0\n",
    "total_correct = 0\n",
    "for idx, (human, cos) in enumerate(zip(human_ratings, cosine_sim_ratings)):\n",
    "    if human == -1 or cos == -1:\n",
    "        continue\n",
    "    if round(human) == int(cos):\n",
    "        total_correct += 1\n",
    "        correct_by_rating[int(cos)] += 1\n",
    "    \n",
    "    total_with_cos_and_human += 1\n",
    "    #totals_by_rating[int(cos)] += 1\n",
    "    totals_by_rating[round(human)] += 1\n",
    "        \n",
    "accuracy = total_correct / total_with_cos_and_human\n",
    "\n",
    "print('Total with both cosine similarity and human ratings = ', total_with_cos_and_human)\n",
    "print('Total exact match = ', total_correct)\n",
    "print('Accuracy = ', accuracy)\n",
    "print('---------------------------')\n",
    "print('Totals by rating sum = ', sum(totals_by_rating))\n",
    "print('Totals by rating = ', totals_by_rating)\n",
    "print('Correct by rating = ', correct_by_rating)\n",
    "print('Accuracy by rating 1 - 5')\n",
    "for idx, (correct, total) in enumerate(zip(correct_by_rating, totals_by_rating)):\n",
    "    if idx == 0:\n",
    "        continue\n",
    "    print('Rating = ', idx, '| Accuracy = ', correct/total)"
   ]
  },
  {
   "cell_type": "code",
   "execution_count": 35,
   "metadata": {},
   "outputs": [],
   "source": [
    "from sklearn.metrics import confusion_matrix"
   ]
  },
  {
   "cell_type": "code",
   "execution_count": null,
   "metadata": {},
   "outputs": [],
   "source": [
    "# Getting the distribution of the original ratings from cosine similarity"
   ]
  },
  {
   "cell_type": "code",
   "execution_count": 24,
   "metadata": {},
   "outputs": [],
   "source": [
    "def get_human_rating(game_data_object):\n",
    "    human_ratings = []\n",
    "    idx = 2\n",
    "    while True:\n",
    "        if 'Z'+str(idx) in game_data_object:\n",
    "            human_ratings.append(game_data_object['Z'+str(idx)])\n",
    "        else:\n",
    "            break\n",
    "        idx += 1\n",
    "    print(len(human_ratings))\n",
    "    human_average = statistics.mean(human_ratings)\n",
    "    return round(human_average)"
   ]
  },
  {
   "cell_type": "code",
   "execution_count": 25,
   "metadata": {},
   "outputs": [
    {
     "name": "stdout",
     "output_type": "stream",
     "text": [
      "3\n",
      "3\n"
     ]
    }
   ],
   "source": [
    "sample_obj = {'Z0': 1, 'Z1': 1, 'Z2': 2, 'Z3': 3, 'Z4': 3}\n",
    "\n",
    "print(get_human_rating(sample_obj))"
   ]
  },
  {
   "cell_type": "code",
   "execution_count": 33,
   "metadata": {},
   "outputs": [
    {
     "name": "stdout",
     "output_type": "stream",
     "text": [
      "730\n",
      "1409\n",
      "4292\n",
      "8565\n",
      "10631\n"
     ]
    }
   ],
   "source": [
    "five_or_more_human_ratings = []\n",
    "four_or_more_human_ratings = []\n",
    "three_or_more_human_ratings = []\n",
    "two_or_more_human_ratings = []\n",
    "one_or_more_human_ratings = []\n",
    "for game_data in caption_eval_data:\n",
    "    if 'Z6' in game_data:\n",
    "        five_or_more_human_ratings.append(game_data)\n",
    "    if 'Z5' in game_data:\n",
    "        four_or_more_human_ratings.append(game_data)\n",
    "    if 'Z4' in game_data:\n",
    "        three_or_more_human_ratings.append(game_data)\n",
    "    if 'Z3' in game_data:\n",
    "        two_or_more_human_ratings.append(game_data)\n",
    "    if 'Z2' in game_data:\n",
    "        one_or_more_human_ratings.append(game_data)\n",
    "\n",
    "print(len(five_or_more_human_ratings))\n",
    "print(len(four_or_more_human_ratings))\n",
    "print(len(three_or_more_human_ratings))\n",
    "print(len(two_or_more_human_ratings))\n",
    "print(len(one_or_more_human_ratings))\n",
    "\n",
    "#with open('three_or_more_human_ratings.json', 'w') as f:\n",
    " #   json.dump(three_or_more_human_ratings, f)\n",
    "    \n",
    "with open('two_or_more_human_ratings.json', 'w') as f:\n",
    "    json.dump(two_or_more_human_ratings, f)"
   ]
  },
  {
   "cell_type": "code",
   "execution_count": 12,
   "metadata": {},
   "outputs": [],
   "source": [
    "vsepp_ratings = []\n",
    "human_ratings = []\n",
    "consensus = []\n",
    "for game_data in caption_eval_data:\n",
    "    if 'Z2' in game_data:\n",
    "        vsepp_ratings.append(int(game_data['Z0']))\n",
    "        human_ratings.append(get_human_rating(game_data))\n",
    "        consensus.append(round(float(game_data['Consensus'])))"
   ]
  },
  {
   "cell_type": "code",
   "execution_count": 13,
   "metadata": {},
   "outputs": [
    {
     "name": "stdout",
     "output_type": "stream",
     "text": [
      "10631\n",
      "10631\n",
      "10631\n"
     ]
    }
   ],
   "source": [
    "print(len(vsepp_ratings))\n",
    "print(len(human_ratings))\n",
    "print(len(consensus))"
   ]
  },
  {
   "cell_type": "code",
   "execution_count": 14,
   "metadata": {},
   "outputs": [
    {
     "name": "stdout",
     "output_type": "stream",
     "text": [
      "VSEPP Derived Ratings\n",
      "Count 1 =  2539\n",
      "Count 2 =  1516\n",
      "Count 3 =  2317\n",
      "Count 4 =  2775\n",
      "Count 5 =  1484\n",
      "Total =  10631\n",
      "\n",
      "Human Ratings\n",
      "Count 1 =  2316\n",
      "Count 2 =  1895\n",
      "Count 3 =  1335\n",
      "Count 4 =  3656\n",
      "Count 5 =  1429\n",
      "Total =  10631\n",
      "\n",
      "Consensus Ratings\n",
      "Count 1 =  2149\n",
      "Count 2 =  2008\n",
      "Count 3 =  1640\n",
      "Count 4 =  3692\n",
      "Count 5 =  1142\n",
      "Total =  10631\n"
     ]
    }
   ],
   "source": [
    "print('VSEPP Derived Ratings')\n",
    "print('Count 1 = ', vsepp_ratings.count(1))\n",
    "print('Count 2 = ', vsepp_ratings.count(2))\n",
    "print('Count 3 = ', vsepp_ratings.count(3))\n",
    "print('Count 4 = ', vsepp_ratings.count(4))\n",
    "print('Count 5 = ', vsepp_ratings.count(5))\n",
    "total = vsepp_ratings.count(1) + vsepp_ratings.count(2) + vsepp_ratings.count(3) + vsepp_ratings.count(4) + vsepp_ratings.count(5)\n",
    "print('Total = ', total)\n",
    "print('\\nHuman Ratings')\n",
    "print('Count 1 = ', human_ratings.count(1))\n",
    "print('Count 2 = ', human_ratings.count(2))\n",
    "print('Count 3 = ', human_ratings.count(3))\n",
    "print('Count 4 = ', human_ratings.count(4))\n",
    "print('Count 5 = ', human_ratings.count(5))\n",
    "total = human_ratings.count(1) + human_ratings.count(2) + human_ratings.count(3) + human_ratings.count(4) + human_ratings.count(5)\n",
    "print('Total = ', total)\n",
    "print('\\nConsensus Ratings')\n",
    "print('Count 1 = ', consensus.count(1))\n",
    "print('Count 2 = ', consensus.count(2))\n",
    "print('Count 3 = ', consensus.count(3))\n",
    "print('Count 4 = ', consensus.count(4))\n",
    "print('Count 5 = ', consensus.count(5))\n",
    "total = consensus.count(1) + consensus.count(2) + consensus.count(3) + consensus.count(4) + consensus.count(5)\n",
    "print('Total = ', total)"
   ]
  },
  {
   "cell_type": "code",
   "execution_count": 72,
   "metadata": {},
   "outputs": [
    {
     "name": "stdout",
     "output_type": "stream",
     "text": [
      "0.4958141284921456\n",
      "0.9123318596557238\n",
      "0.9878656758536356\n",
      "803\n"
     ]
    }
   ],
   "source": [
    "correct_count = 0\n",
    "correct_count_within_1 = 0\n",
    "correct_count_within_2 = 0\n",
    "for hum, vsepp in zip(human_ratings, vsepp_ratings):\n",
    "    if hum == vsepp:\n",
    "        correct_count += 1\n",
    "    elif abs(hum - vsepp) == 1:\n",
    "        correct_count_within_1 += 1\n",
    "    elif abs(hum - vsepp) == 2:\n",
    "        correct_count_within_2 += 1\n",
    "\n",
    "        \n",
    "print(correct_count / total)\n",
    "print((correct_count + correct_count_within_1) / total)\n",
    "print((correct_count + correct_count_within_1 + correct_count_within_2) / total)\n",
    "print(correct_count_within_2)"
   ]
  },
  {
   "cell_type": "code",
   "execution_count": 69,
   "metadata": {},
   "outputs": [
    {
     "data": {
      "image/png": "[encoded data removed]",
      "text/plain": [
       "<Figure size 432x288 with 1 Axes>"
      ]
     },
     "metadata": {
      "needs_background": "light"
     },
     "output_type": "display_data"
    }
   ],
   "source": [
    "x = ['1', '2', '3', '4', '5']\n",
    "vsepp = [vsepp_ratings.count(1), vsepp_ratings.count(2), vsepp_ratings.count(3), vsepp_ratings.count(4), vsepp_ratings.count(5)]\n",
    "human = [human_ratings.count(1), human_ratings.count(2), human_ratings.count(3), human_ratings.count(4), human_ratings.count(5)]\n",
    "cons = [consensus.count(1), consensus.count(2), consensus.count(3), consensus.count(4), consensus.count(5)]\n",
    "\n",
    "\n",
    "x_pos = [i for i, _ in enumerate(x)]\n",
    "\n",
    "bar_width = 0.25\n",
    "\n",
    "r1 = np.arange(len(vsepp))\n",
    "r2 = [x + bar_width for x in r1]\n",
    "r3 = [x + bar_width for x in r2]\n",
    "\n",
    "plt.bar(r1, vsepp, color='#33ccff', width=bar_width, edgecolor='white', label='VSEPP')\n",
    "plt.bar(r2, human, color='#ff9966', width=bar_width, edgecolor='white', label='Human')\n",
    "plt.bar(r3, cons, color='#cc99ff', width=bar_width, edgecolor='white', label='Consensus')\n",
    "\n",
    "plt.grid(axis='y', ls='--')\n",
    "#plt.xlabel(\"Rating\")\n",
    "plt.ylabel(\"Number of Samples\")\n",
    "plt.title(\"Distribution of Ratings from 1 - 5. N = \" + str(total))\n",
    "\n",
    "plt.xticks([r + bar_width for r in range(len(vsepp))], x)\n",
    "plt.legend()\n",
    "\n",
    "plt.show()"
   ]
  },
  {
   "cell_type": "code",
   "execution_count": null,
   "metadata": {},
   "outputs": [],
   "source": []
  }
 ],
 "metadata": {
  "kernelspec": {
   "display_name": "Python 3",
   "language": "python",
   "name": "python3"
  },
  "language_info": {
   "codemirror_mode": {
    "name": "ipython",
    "version": 3
   },
   "file_extension": ".py",
   "mimetype": "text/x-python",
   "name": "python",
   "nbconvert_exporter": "python",
   "pygments_lexer": "ipython3",
   "version": "3.7.7"
  }
 },
 "nbformat": 4,
 "nbformat_minor": 4
}
